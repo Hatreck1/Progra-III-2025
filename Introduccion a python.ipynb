{
  "nbformat": 4,
  "nbformat_minor": 0,
  "metadata": {
    "colab": {
      "provenance": [],
      "authorship_tag": "ABX9TyMBNVnBMX70P/3XsF8b9G/d",
      "include_colab_link": true
    },
    "kernelspec": {
      "name": "python3",
      "display_name": "Python 3"
    },
    "language_info": {
      "name": "python"
    }
  },
  "cells": [
    {
      "cell_type": "markdown",
      "metadata": {
        "id": "view-in-github",
        "colab_type": "text"
      },
      "source": [
        "<a href=\"https://colab.research.google.com/github/Hatreck1/Progra-III-2025/blob/main/Introduccion%20a%20python.ipynb\" target=\"_parent\"><img src=\"https://colab.research.google.com/assets/colab-badge.svg\" alt=\"Open In Colab\"/></a>"
      ]
    },
    {
      "cell_type": "code",
      "execution_count": null,
      "metadata": {
        "colab": {
          "base_uri": "https://localhost:8080/"
        },
        "id": "yUF3SJgPbv1d",
        "outputId": "50ca0ddb-84ed-4e2c-ec83-83b7c44ad798"
      },
      "outputs": [
        {
          "output_type": "stream",
          "name": "stdout",
          "text": [
            "Hola mundo\n",
            "Bienvenidos chicos a programacion computacional III\n"
          ]
        }
      ],
      "source": [
        "print(\"Hola mundo\")\n",
        "print(\"Bienvenidos chicos a programacion computacional III\")"
      ]
    },
    {
      "cell_type": "code",
      "source": [
        "nombre = \"Gilberto Lizama\"\n",
        "edad = 5\n",
        "print(nombre,edad)\n",
        "\n",
        "edad = \"cinco\"\n",
        "print(\"Tu edad: \", edad)"
      ],
      "metadata": {
        "colab": {
          "base_uri": "https://localhost:8080/"
        },
        "id": "wcyb-fRkdLJZ",
        "outputId": "2f06fc8e-f633-4e64-9767-56c5b424d43a"
      },
      "execution_count": null,
      "outputs": [
        {
          "output_type": "stream",
          "name": "stdout",
          "text": [
            "Gilberto Lizama 5\n",
            "Tu edad:  cinco\n"
          ]
        }
      ]
    },
    {
      "cell_type": "code",
      "source": [
        "num1 = 5\n",
        "num2 = 8.9\n",
        "suma = num1 + num2\n",
        "print(\"la suma es: \", suma)"
      ],
      "metadata": {
        "colab": {
          "base_uri": "https://localhost:8080/"
        },
        "id": "PiwnCbryep7r",
        "outputId": "212d33ea-b83d-4880-ed95-fb02063a7ce3"
      },
      "execution_count": null,
      "outputs": [
        {
          "output_type": "stream",
          "name": "stdout",
          "text": [
            "la suma es:  13.9\n"
          ]
        }
      ]
    },
    {
      "cell_type": "code",
      "source": [
        "num1 = float(input(\"num1: \"))\n",
        "num2 = float(input(\"num2: \"))\n",
        "suma = num1 + num2\n",
        "print(\"la suma es: \", suma)"
      ],
      "metadata": {
        "colab": {
          "base_uri": "https://localhost:8080/"
        },
        "id": "3Mdp7VTlfbP3",
        "outputId": "d0df4be7-a8e8-47ca-85b5-1ee49facb1d4"
      },
      "execution_count": null,
      "outputs": [
        {
          "output_type": "stream",
          "name": "stdout",
          "text": [
            "num1: 5\n",
            "num2: 2\n",
            "la suma es:  7.0\n"
          ]
        }
      ]
    },
    {
      "cell_type": "code",
      "source": [
        "num1 = float(input(\"num1: \"))\n",
        "num2 = float(input(\"num2: \"))\n",
        "suma = num1 - num2\n",
        "print(\"la resta es: \", suma)"
      ],
      "metadata": {
        "colab": {
          "base_uri": "https://localhost:8080/"
        },
        "id": "e3SVvElRhwU_",
        "outputId": "8bbfdb85-2203-41b9-86df-9272b23ced06"
      },
      "execution_count": null,
      "outputs": [
        {
          "output_type": "stream",
          "name": "stdout",
          "text": [
            "num1: 5\n",
            "num2: 5\n",
            "la resta es:  0.0\n"
          ]
        }
      ]
    },
    {
      "cell_type": "markdown",
      "source": [
        "**TIPOS DE DATOS EN PYTHON**"
      ],
      "metadata": {
        "id": "-O_tM94qt1ta"
      }
    },
    {
      "cell_type": "code",
      "source": [
        "#entero\n",
        "num1 = 6\n",
        "print(num1, \"Esto es un entero\")\n",
        "print(str(num1) + \"Esto es un entero\")\n",
        "\n",
        "#decimmal\n",
        "num2 = 7.5\n",
        "print(num2, \"Esto es un decimal\")\n",
        "\n",
        "#BOOLEANO\n",
        "esMayor = True\n",
        "print(esMayor, \"Esto es un booleano\")\n",
        "\n",
        "#CADENA\n",
        "nombre = \"Gilberto Lizama\"\n",
        "cadena = input(\"Dime una cadena: \")\n",
        "valor = int(input(\"Dime un valor: \"))\n",
        "print(nombre, \"Esto es una cadena\", cadena[:valor])\n",
        "\n",
        "print( nombre, \"Letra inicial\", nombre[0],  \"Un valor especifico\", nombre[5], \"rango\", nombre[0:4], \"Comenzar desde el final\", nombre[-1])\n",
        "print( nombre[5:len(nombre)], nombre[:4] )\n",
        "print(type(nombre))"
      ],
      "metadata": {
        "colab": {
          "base_uri": "https://localhost:8080/"
        },
        "id": "MEM9M9BLuB-_",
        "outputId": "2d2a0279-08a8-4371-b1f6-59bf6b3a4c34"
      },
      "execution_count": null,
      "outputs": [
        {
          "output_type": "stream",
          "name": "stdout",
          "text": [
            "6 Esto es un entero\n",
            "6Esto es un entero\n",
            "7.5 Esto es un decimal\n",
            "True Esto es un booleano\n",
            "Dime una cadena: hola\n",
            "Dime un valor: 4\n",
            "Gilberto Lizama Esto es una cadena hola\n",
            "Gilberto Lizama Letra inicial G Un valor especifico r rango Gilb Comenzar desde el final a\n",
            "rto Lizama Gilb\n",
            "<class 'str'>\n"
          ]
        }
      ]
    },
    {
      "cell_type": "code",
      "source": [
        "#FECHAS\n",
        "from datetime import datetime, date, time\n",
        "fecha = datetime.now()\n",
        "print(fecha, fecha.date(), fecha.time())\n",
        "print(type(fecha))\n",
        "\n",
        "fechaPersonalizada = date(2025,8,1)\n",
        "print(fechaPersonalizada)\n",
        "\n",
        "fecha = \"2025-08-08\"\n",
        "fecha = datetime.strptime(fecha, \"%Y-%m-%d\")\n",
        "print(fecha)\n",
        "\n",
        "print( fecha.strftime(\"%d/%m/%Y\"), \"Regresamos a clases \" )\n",
        "\n",
        "fechaNac = input(\"Dime tu fecha de nacimiento en formato d-m-Y: \")\n",
        "fechaNac = datetime.strptime(fechaNac, \"%d-%m-%Y\")\n",
        "print(fechaNac)"
      ],
      "metadata": {
        "colab": {
          "base_uri": "https://localhost:8080/"
        },
        "id": "3otuh_4H6-PN",
        "outputId": "23652b65-189c-403b-b6d0-1db0c9cd2cf3"
      },
      "execution_count": null,
      "outputs": [
        {
          "output_type": "stream",
          "name": "stdout",
          "text": [
            "2025-07-29 02:04:21.506176 2025-07-29 02:04:21.506176\n",
            "<class 'datetime.datetime'>\n",
            "2025-08-01\n",
            "2025-08-08 00:00:00\n",
            "08/08/2025 Regresamos a clases \n",
            "Dime tu fecha de nacimiento en formato d-m-Y: 29-04-1995\n",
            "1995-04-29 00:00:00\n"
          ]
        }
      ]
    },
    {
      "cell_type": "markdown",
      "source": [
        "**FUNCIONES EN PYTHON**"
      ],
      "metadata": {
        "id": "VBz_N4Hh7NUS"
      }
    },
    {
      "cell_type": "code",
      "source": [
        "#Suma\n",
        "def suma(num1, num2):\n",
        "  return num1 + num2"
      ],
      "metadata": {
        "id": "33Kx9-Xs7T4B"
      },
      "execution_count": null,
      "outputs": []
    },
    {
      "cell_type": "code",
      "source": [
        "print(\"La suma de 5 + 8 = \", suma(5,8))"
      ],
      "metadata": {
        "colab": {
          "base_uri": "https://localhost:8080/"
        },
        "id": "pk4QxE-K7h69",
        "outputId": "9387b2c7-493f-4867-be5f-10488665caf5"
      },
      "execution_count": null,
      "outputs": [
        {
          "output_type": "stream",
          "name": "stdout",
          "text": [
            "La suma de 5 + 8 =  13\n"
          ]
        }
      ]
    },
    {
      "cell_type": "code",
      "source": [
        "num1 = float(input(\"Num1: \"))\n",
        "num2 = float(input(\"Num2: \"))\n",
        "respuesta = suma(num1, num2)\n",
        "print(\"La suma es: \", respuesta)"
      ],
      "metadata": {
        "colab": {
          "base_uri": "https://localhost:8080/"
        },
        "id": "7MIDDoPf7rK-",
        "outputId": "1d3d1dbf-fe9f-4808-a523-84f8ade40484"
      },
      "execution_count": null,
      "outputs": [
        {
          "output_type": "stream",
          "name": "stdout",
          "text": [
            "Num1: 6\n",
            "Num2: 6\n",
            "La suma es:  12.0\n"
          ]
        }
      ]
    },
    {
      "cell_type": "code",
      "source": [
        "#Hacer un ejercicio en python haciendo uso de las funciones, que reste dos numeros introducidos por el usuario. TAREA."
      ],
      "metadata": {
        "id": "P_W6JwEb70x1"
      },
      "execution_count": null,
      "outputs": []
    },
    {
      "cell_type": "code",
      "source": [
        "#Resta\n",
        "def resta(num1, num2):\n",
        "  return num1 - num2\n",
        "\n",
        "num1 = float(input(\"Num1: \"))\n",
        "num2 = float(input(\"Num2: \"))\n",
        "respuesta = resta(num1, num2)\n",
        "print(\"La resta es: \", respuesta)"
      ],
      "metadata": {
        "id": "hIfJv26C__Bs",
        "outputId": "0edef4cc-6e75-47f9-f246-fd5dc52b09fa",
        "colab": {
          "base_uri": "https://localhost:8080/"
        }
      },
      "execution_count": null,
      "outputs": [
        {
          "output_type": "stream",
          "name": "stdout",
          "text": [
            "Num1: 5\n",
            "Num2: 3\n",
            "La resta es:  2.0\n"
          ]
        }
      ]
    },
    {
      "cell_type": "code",
      "source": [
        "#Hacer un ejercicio en python haciendo uso de funciones de usuario, que convierta grados celcius a Farenheit.\n",
        "def celsiusFarenheit(c):\n",
        "  return c*1.8 + 32"
      ],
      "metadata": {
        "id": "nvR5uCdnQjBJ"
      },
      "execution_count": null,
      "outputs": []
    },
    {
      "cell_type": "code",
      "source": [
        "c = int(input(\"Grados c: \"))\n",
        "f = celsiusFarenheit(c)\n",
        "print(\"F: \", f)"
      ],
      "metadata": {
        "id": "lsZS8JrlQoMv",
        "outputId": "c7e7c281-1660-4d3b-f225-04954ed54a6a",
        "colab": {
          "base_uri": "https://localhost:8080/"
        }
      },
      "execution_count": null,
      "outputs": [
        {
          "output_type": "stream",
          "name": "stdout",
          "text": [
            "Grados c: 10\n",
            "F:  50.0\n"
          ]
        }
      ]
    },
    {
      "cell_type": "code",
      "source": [
        "#Hacer un ejercicio en python haciendo uso de funciones de usuario, que convierta grados Farenheit a Celsius.\n",
        "def farenheitCelsius(f):\n",
        "  return (f-32) * 5/9\n",
        "\n",
        "f = float(input(\"F: \"))\n",
        "c = farenheitCelsius(f)\n",
        "print(\"C: \", c)"
      ],
      "metadata": {
        "id": "_wE90m8qQ8r7",
        "outputId": "411afb6c-fb42-4b1d-fd81-e6e6c642e245",
        "colab": {
          "base_uri": "https://localhost:8080/"
        }
      },
      "execution_count": null,
      "outputs": [
        {
          "output_type": "stream",
          "name": "stdout",
          "text": [
            "F: 100\n",
            "C:  37.77777777777778\n"
          ]
        }
      ]
    },
    {
      "cell_type": "code",
      "source": [
        "#Hacer un ejercicio en python haciendo uso de funciones de usuario, que convierta grados Celsius a Kelvin.\n",
        "def celsiusKelvin(c):\n",
        "  return c + 273.15\n",
        "\n",
        "c = float(input(\"C: \"))\n",
        "k = celsiusKelvin(c)\n",
        "print(\"K: \", k)"
      ],
      "metadata": {
        "id": "Du-bdKFMRDdE",
        "outputId": "5a64a6fa-e858-4ea5-cad8-5b537ee37bac",
        "colab": {
          "base_uri": "https://localhost:8080/"
        }
      },
      "execution_count": null,
      "outputs": [
        {
          "output_type": "stream",
          "name": "stdout",
          "text": [
            "C: 10\n",
            "K:  283.15\n"
          ]
        }
      ]
    },
    {
      "cell_type": "code",
      "source": [
        "#Hacer un ejercicio en python haciendo uso de funciones de usuario, que calcule\n",
        "#el sueldo de un empleado, segun el numero de hrs trabajas y el valor por hora\n",
        "def sueldo(numHrs, valorXhr):\n",
        "  sueldo = numHrs * valorXhr * 30\n",
        "  return sueldo"
      ],
      "metadata": {
        "id": "_127T_xqRo4r"
      },
      "execution_count": null,
      "outputs": []
    },
    {
      "cell_type": "code",
      "source": [
        "numHrs = float(input(\"Hrs: \"))\n",
        "valorXhr = float(input(\"Valor Xhr: \"))\n",
        "sueldo = sueldo(numHrs, valorXhr)\n",
        "\n",
        "print(\"Sueldo: \", sueldo)"
      ],
      "metadata": {
        "id": "FJxs5GCRRvID",
        "outputId": "d344cd72-b629-4a8f-ce78-7ca020e3c923",
        "colab": {
          "base_uri": "https://localhost:8080/"
        }
      },
      "execution_count": null,
      "outputs": [
        {
          "output_type": "stream",
          "name": "stdout",
          "text": [
            "Hrs: 8\n",
            "Valor Xhr: 10\n",
            "Sueldo:  2400.0\n"
          ]
        }
      ]
    },
    {
      "cell_type": "code",
      "source": [
        "#Hacer un ejercicio en python haciendo uso de funciones de usuario, que permita elevar un numero a un exponente\n",
        "def expoenciacion(b,e):\n",
        "  return b**e\n",
        "\n",
        "b = float(input(\"Base: \"))\n",
        "e = float(input(\"Exponente: \"))\n",
        "\n",
        "resultado = expoenciacion(b,e)\n",
        "print(\"El Numero: \", b, \", elevado a \",e, \", el resultado es: \", resultado)"
      ],
      "metadata": {
        "id": "IyLoU_SwR827",
        "outputId": "877ea19b-3df1-4e44-809b-4870abec3510",
        "colab": {
          "base_uri": "https://localhost:8080/"
        }
      },
      "execution_count": null,
      "outputs": [
        {
          "output_type": "stream",
          "name": "stdout",
          "text": [
            "Base: 8\n",
            "Exponente: 3\n",
            "El Numero:  8.0 , elevado a  3.0 , el resultado es:  512.0\n"
          ]
        }
      ]
    },
    {
      "cell_type": "markdown",
      "source": [
        "**FUNCIONES ANONIMAS**"
      ],
      "metadata": {
        "id": "a-WQ2zmjBaMb"
      }
    },
    {
      "cell_type": "code",
      "source": [
        "def suma(a,b):\n",
        "  return a+b"
      ],
      "metadata": {
        "id": "bm5cQUlzBoT2"
      },
      "execution_count": null,
      "outputs": []
    },
    {
      "cell_type": "code",
      "source": [
        "a = float(input(\"Num1: \"))\n",
        "b = float(input(\"Num2: \"))\n",
        "\n",
        "suma = suma(a,b)\n",
        "print(\"La suma es: \", suma)"
      ],
      "metadata": {
        "colab": {
          "base_uri": "https://localhost:8080/"
        },
        "id": "VGfANXknBtBk",
        "outputId": "7f170fa6-fe93-41dc-be14-96fb100dd45f"
      },
      "execution_count": null,
      "outputs": [
        {
          "output_type": "stream",
          "name": "stdout",
          "text": [
            "Num1: 10\n",
            "Num2: 10\n",
            "La suma es:  20.0\n"
          ]
        }
      ]
    },
    {
      "cell_type": "code",
      "source": [
        "a = float(input(\"Num1: \"))\n",
        "b = float(input(\"Num2: \"))\n",
        "\n",
        "sum = lambda a,b: a+b\n",
        "print( \"La suma de \", a, \" mas b \", b, \" es igual \", sum(a,b) )"
      ],
      "metadata": {
        "colab": {
          "base_uri": "https://localhost:8080/"
        },
        "id": "4_aQtLpdB2jh",
        "outputId": "0207af18-2335-4356-efbd-3855a9d9d11e"
      },
      "execution_count": null,
      "outputs": [
        {
          "output_type": "stream",
          "name": "stdout",
          "text": [
            "Num1: 15\n",
            "Num2: 15\n",
            "La suma de  15.0  mas b  15.0  es igual  30.0\n"
          ]
        }
      ]
    },
    {
      "cell_type": "markdown",
      "source": [
        "**FUNCIONES PRECONSTRUIDAS**"
      ],
      "metadata": {
        "id": "ufJm8mzQB7Sv"
      }
    },
    {
      "cell_type": "code",
      "source": [
        "def extraerPrimeraLetra(dia):\n",
        "  return dia[0]"
      ],
      "metadata": {
        "id": "x_gvSiMwB-os"
      },
      "execution_count": null,
      "outputs": []
    },
    {
      "cell_type": "code",
      "source": [
        "#map\n",
        "semana = [\"Domingo\", \"Lunes\", \"Martes\", \"Miercoles\", \"Jueves\", \"Viernes\", \"Sabado\"]\n",
        "\n",
        "primeraLetraDia = map(lambda dia: dia[0], semana)\n",
        "print(list(primeraLetraDia))\n",
        "\n",
        "mayusSemana = map(lambda dia: dia.upper(), semana)\n",
        "print(list(mayusSemana))\n",
        "\n",
        "print( list(map(extraerPrimeraLetra, semana)) )"
      ],
      "metadata": {
        "colab": {
          "base_uri": "https://localhost:8080/"
        },
        "id": "6hS9hekUCFqO",
        "outputId": "a8700d19-be07-44ec-faaa-9bdf79204510"
      },
      "execution_count": null,
      "outputs": [
        {
          "output_type": "stream",
          "name": "stdout",
          "text": [
            "['D', 'L', 'M', 'M', 'J', 'V', 'S']\n",
            "['DOMINGO', 'LUNES', 'MARTES', 'MIERCOLES', 'JUEVES', 'VIERNES', 'SABADO']\n",
            "['D', 'L', 'M', 'M', 'J', 'V', 'S']\n"
          ]
        }
      ]
    },
    {
      "cell_type": "code",
      "source": [
        "numeros = [2,4,6,8,7,9]\n",
        "potencia = int(input(\"Potencia: \"))\n",
        "numeroPotencia = map(lambda num: num**potencia, numeros)\n",
        "\n",
        "print(list(numeroPotencia))"
      ],
      "metadata": {
        "colab": {
          "base_uri": "https://localhost:8080/"
        },
        "id": "SKIWOCNVCKTN",
        "outputId": "8a60cffe-fd33-46f9-9058-968571f7d4c6"
      },
      "execution_count": null,
      "outputs": [
        {
          "output_type": "stream",
          "name": "stdout",
          "text": [
            "Potencia: 2\n",
            "[4, 16, 36, 64, 49, 81]\n"
          ]
        }
      ]
    },
    {
      "cell_type": "code",
      "source": [
        "ntabla  = int(input(\"Tabla:\"))\n",
        "numeros = [1,2,3,4,5,6,7,8,9,10]\n",
        "tabla = map(lambda num: num*ntabla, numeros)\n",
        "\n",
        "print(list(tabla))"
      ],
      "metadata": {
        "colab": {
          "base_uri": "https://localhost:8080/"
        },
        "id": "P3CjQD9XCOWQ",
        "outputId": "82d319b0-8e80-4192-b628-3f3fad967b7e"
      },
      "execution_count": null,
      "outputs": [
        {
          "output_type": "stream",
          "name": "stdout",
          "text": [
            "Tabla:10\n",
            "[10, 20, 30, 40, 50, 60, 70, 80, 90, 100]\n"
          ]
        }
      ]
    },
    {
      "cell_type": "code",
      "source": [
        "serie = [5,6,9,2,7,8]\n",
        "pares = filter(lambda num: num%2==0, serie) #% ===> a modulo, obtener el residuo.\n",
        "\n",
        "print(list(pares))\n",
        "\n",
        "impares = filter(lambda num: num%2!=0, serie)\n",
        "\n",
        "print(list(impares))"
      ],
      "metadata": {
        "colab": {
          "base_uri": "https://localhost:8080/"
        },
        "id": "sajthPlHCShr",
        "outputId": "6eb3b6e6-3132-4403-a036-e4be8f7a536f"
      },
      "execution_count": null,
      "outputs": [
        {
          "output_type": "stream",
          "name": "stdout",
          "text": [
            "[6, 2, 8]\n",
            "[5, 9, 7]\n"
          ]
        }
      ]
    },
    {
      "cell_type": "code",
      "source": [
        "serieUser = input(\"Serie: \") # \"5,2,8,1\" --> serie[0]=\"5\"; serie[1]=\"2\"; etc..\n",
        "serieUser = serieUser.split(\",\")\n",
        "\n",
        "pares = filter(lambda num: int(num)%2==0, serieUser)\n",
        "impares = filter(lambda num: int(num)%2!=0, serieUser)\n",
        "\n",
        "print(\"Pares: \",list(pares))\n",
        "print(\"Impares: \", list(impares))"
      ],
      "metadata": {
        "colab": {
          "base_uri": "https://localhost:8080/"
        },
        "id": "ucDtRNLhCV19",
        "outputId": "9e920f12-8d82-4644-e4c9-3b4142724e64"
      },
      "execution_count": null,
      "outputs": [
        {
          "output_type": "stream",
          "name": "stdout",
          "text": [
            "Serie: 5,2,8,1,9\n",
            "Pares:  ['2', '8']\n",
            "Impares:  ['5', '1', '9']\n"
          ]
        }
      ]
    },
    {
      "cell_type": "markdown",
      "source": [
        "Hacer un ejercicio en python usando la funcion filter y lambda que de una seria de notas introducidas por el usuario, establezca cuantos pasan la materia (>6) y cuantos se quedan (<6)."
      ],
      "metadata": {
        "id": "BIjOTx87CemU"
      }
    },
    {
      "cell_type": "code",
      "source": [
        "serieUser = input(\"Serie: \") # \"5,2,8,1\" --> serie[0]=\"5\"; serie[1]=\"2\"; etc..\n",
        "serieUser = serieUser.split(\",\")\n",
        "\n",
        "pasan = filter(lambda num: int(num) >=6, serieUser)\n",
        "no_pasan = filter(lambda num: int(num) <6, serieUser)\n",
        "\n",
        "print(\"Pasan: \",list(pasan))\n",
        "print(\"No pasan: \", list(no_pasan))"
      ],
      "metadata": {
        "id": "S6IX9DwwkKrY",
        "outputId": "33e90e69-f4e0-4b82-f288-299424c8d011",
        "colab": {
          "base_uri": "https://localhost:8080/"
        }
      },
      "execution_count": null,
      "outputs": [
        {
          "output_type": "stream",
          "name": "stdout",
          "text": [
            "Serie: 1,5,6,2,7,8,9\n",
            "Pasan:  ['6', '7', '8', '9']\n",
            "No pasan:  ['1', '5', '2']\n"
          ]
        }
      ]
    },
    {
      "cell_type": "code",
      "source": [
        "#reduce\n",
        "from functools import reduce\n",
        "\n",
        "numeros = [5,4,9,6,8,2,3]\n",
        "suma = reduce(lambda num, acum: num+acum, numeros)\n",
        "\n",
        "sumaPares = reduce(lambda num, acum: num+acum, filter(lambda num: num%2==0, numeros))\n",
        "sumaPar = reduce(lambda num, acum: acum + num if num%2==0 else 0, numeros) #pendiente de revisar...\n",
        "\n",
        "print(\"La suma es: \", suma)\n",
        "print(\"La suma de los pares es: \", sumaPares)\n",
        "print(\"Suma Pares: \", sumaPar)"
      ],
      "metadata": {
        "id": "2PnDD0fnCfe7",
        "colab": {
          "base_uri": "https://localhost:8080/"
        },
        "outputId": "192e3ecf-1d4b-4190-869a-9350d5e32ed4"
      },
      "execution_count": 1,
      "outputs": [
        {
          "output_type": "stream",
          "name": "stdout",
          "text": [
            "La suma es:  37\n",
            "La suma de los pares es:  20\n",
            "Suma Pares:  13\n"
          ]
        }
      ]
    },
    {
      "cell_type": "markdown",
      "source": [
        "**TUPLAS**"
      ],
      "metadata": {
        "id": "s9TLgxngmCt9"
      }
    },
    {
      "cell_type": "code",
      "source": [
        "tupla = (5,2,3,7,8,5)\n",
        "#tupla[0] = 1\n",
        "print(\"Tupla: \", tupla, \"Primer elemento: \", tupla[0], \"El numero 5 parece \", tupla.count(5))\n",
        "print(\"Ultimo elemento: \", tupla[-1])\n",
        "print(\"Rango: \", tupla[0:5])"
      ],
      "metadata": {
        "colab": {
          "base_uri": "https://localhost:8080/"
        },
        "id": "jqYzbTHOmI9K",
        "outputId": "44c646df-1cc2-4f44-85f9-fe79c9a9aa66"
      },
      "execution_count": 2,
      "outputs": [
        {
          "output_type": "stream",
          "name": "stdout",
          "text": [
            "Tupla:  (5, 2, 3, 7, 8, 5) Primer elemento:  5 El numero 5 parece  2\n",
            "Ultimo elemento:  5\n",
            "Rango:  (5, 2, 3, 7, 8)\n"
          ]
        }
      ]
    },
    {
      "cell_type": "code",
      "source": [
        "import datetime\n",
        "fecha = datetime.date.today()\n",
        "\n",
        "semana = (\"Domingo\", \"Lunes\", \"Martes\", \"Miercoles\", \"Jueves\", \"Viernes\", \"Sabado\")\n",
        "meses = (\"\", \"Enero\", \"Febrero\", \"Marzo\", \"Abril\", \"Mayo\", \"Junio\", \"Julio\", \"Agosto\", \"Septiembre\", \"Octubre\", \"Noviembre\", \"Diciembre\")\n",
        "dia = fecha.day\n",
        "mes = fecha.month\n",
        "year = fecha.year\n",
        "diaSemana = semana[fecha.isoweekday()]\n",
        "\n",
        "print(diaSemana, dia, \"del\", meses[mes], \"del\", year)\n",
        "print(fecha, fecha.isoweekday(), diaSemana)\n",
        "print(dia, mes, year)"
      ],
      "metadata": {
        "colab": {
          "base_uri": "https://localhost:8080/"
        },
        "id": "wVNSdkwxmSvt",
        "outputId": "fef4f8c2-dae9-4672-8dc9-b49892aaafff"
      },
      "execution_count": 3,
      "outputs": [
        {
          "output_type": "stream",
          "name": "stdout",
          "text": [
            "Lunes 18 del Agosto del 2025\n",
            "2025-08-18 1 Lunes\n",
            "18 8 2025\n"
          ]
        }
      ]
    },
    {
      "cell_type": "markdown",
      "source": [
        "**LISTAS**"
      ],
      "metadata": {
        "id": "EBdKWDFQmaPO"
      }
    },
    {
      "cell_type": "code",
      "source": [
        "lista = [5,8,9,4, \"Progra III\", True, [4,8,9, [8,9,4]]]\n",
        "print(lista)"
      ],
      "metadata": {
        "colab": {
          "base_uri": "https://localhost:8080/"
        },
        "id": "h9YDUJWjmdV1",
        "outputId": "c231012b-4b58-4e4d-ec35-3b96d0f73d3e"
      },
      "execution_count": 4,
      "outputs": [
        {
          "output_type": "stream",
          "name": "stdout",
          "text": [
            "[5, 8, 9, 4, 'Progra III', True, [4, 8, 9, [8, 9, 4]]]\n"
          ]
        }
      ]
    },
    {
      "cell_type": "code",
      "source": [
        "def calcularPromedio(nota, notas):\n",
        "  return notas[1]*notas[2] + nota # 8*0.3 + 9*0.3 + 10*0.3"
      ],
      "metadata": {
        "id": "tr5RPFE7mhzZ"
      },
      "execution_count": 5,
      "outputs": []
    },
    {
      "cell_type": "code",
      "source": [
        "#Hacer un ejercicio en python que obtenga la nota final de Progra III del computo I, haciendo uso de las listas y de las funciones.\n",
        "from functools import reduce\n",
        "\n",
        "notas = [[\"Lab1\", 8, 0.3], [\"Lab2\", 9, 0.3], [\"Parcial\", 10, 0.4]]\n",
        "prom = reduce(calcularPromedio, notas, 0)\n",
        "print(\"Nota Final: \", prom)"
      ],
      "metadata": {
        "colab": {
          "base_uri": "https://localhost:8080/"
        },
        "id": "2xJilB_EmlX3",
        "outputId": "19edad3b-b786-4ce3-8ec0-af5a59fe3e15"
      },
      "execution_count": 6,
      "outputs": [
        {
          "output_type": "stream",
          "name": "stdout",
          "text": [
            "Nota Final:  9.1\n"
          ]
        }
      ]
    },
    {
      "cell_type": "markdown",
      "source": [
        "**EJERCICIOS PRACTICOS**"
      ],
      "metadata": {
        "id": "sopY-aGXmtfH"
      }
    },
    {
      "cell_type": "markdown",
      "source": [
        "1- Calcular sobre el sueldo las deducciones por ley ISSS (3%), AFP(6.25%), ISR(Según tabla) e imprima el total deducciones y sueldo neto."
      ],
      "metadata": {
        "id": "GoH3_Wy8ro0T"
      }
    },
    {
      "cell_type": "code",
      "source": [
        "def calcular_deducciones(sueldo_bruto, base_isr=\"gravable\", metodo_isr=\"plano\"):\n",
        "    # Deducciones porcentuales\n",
        "    isss_porcentaje = 0.03\n",
        "    afp_porcentaje = 0.0625\n",
        "\n",
        "    # Cálculo de ISSS y AFP\n",
        "    isss = sueldo_bruto * isss_porcentaje\n",
        "    afp = sueldo_bruto * afp_porcentaje\n",
        "\n",
        "    # Base para ISR: \"bruto\" o \"gravable\" (bruto - isss - afp)\n",
        "    base = sueldo_bruto if base_isr == \"bruto\" else (sueldo_bruto - isss - afp)\n",
        "\n",
        "    # Rangos (según lo que pediste)\n",
        "    limites = (550.00, 895.24, 2038.10)\n",
        "\n",
        "    def tasa_por_rango(valor):\n",
        "        if valor <= limites[0]:\n",
        "            return 0.0\n",
        "        elif valor <= limites[1]:\n",
        "            return 0.10\n",
        "        elif valor <= limites[2]:\n",
        "            return 0.20\n",
        "        else:\n",
        "            return 0.30\n",
        "\n",
        "    if metodo_isr == \"plano\":\n",
        "        # Aplica el % al TOTAL de la base según el rango\n",
        "        tasa = tasa_por_rango(base)\n",
        "        isr = base * tasa\n",
        "        tramo = f\"{int(tasa*100)}% aplicado a toda la base\"\n",
        "    elif metodo_isr == \"exceso\":\n",
        "        # Aplica el % solo al EXCESO del límite inferior\n",
        "        if base <= limites[0]:\n",
        "            isr = 0.0\n",
        "            tramo = \"Exento\"\n",
        "        elif base <= limites[1]:\n",
        "            isr = (base - limites[0]) * 0.10\n",
        "            tramo = \"10% sobre exceso de 550.00\"\n",
        "        elif base <= limites[2]:\n",
        "            isr = (limites[1] - limites[0]) * 0.10 + (base - limites[1]) * 0.20\n",
        "            tramo = \"10% exceso 550.00 + 20% exceso 895.24\"\n",
        "        else:\n",
        "            isr = ((limites[1] - limites[0]) * 0.10 +\n",
        "                   (limites[2] - limites[1]) * 0.20 +\n",
        "                   (base - limites[2]) * 0.30)\n",
        "            tramo = \"10% exceso 550.00 + 20% exceso 895.24 + 30% exceso 2038.10\"\n",
        "    else:\n",
        "        raise ValueError('metodo_isr debe ser \"plano\" o \"exceso\"')\n",
        "\n",
        "    total_deducciones = isss + afp + isr\n",
        "    sueldo_neto = sueldo_bruto - total_deducciones\n",
        "\n",
        "    return isss, afp, isr, total_deducciones, sueldo_neto, tramo, base\n",
        "\n",
        "\n",
        "# --- Ejemplo con 620, como tú quieres (10% de toda la base) ---\n",
        "sueldo_bruto = float(input(\"Ingrese el sueldo: \"))\n",
        "isss, afp, isr, total, neto, tramo, base = calcular_deducciones(\n",
        "    sueldo_bruto,\n",
        "    base_isr=\"gravable\",   # usa sueldo - isss - afp como base\n",
        "    metodo_isr=\"plano\"     # 10%/20%/30% de TODA la base\n",
        ")\n",
        "\n",
        "print(\"Deducciones por ley:\")\n",
        "print(f\"ISSS: ${isss:.2f}\")\n",
        "print(f\"AFP: ${afp:.2f}\")\n",
        "print(f\"Base ISR: ${base:.2f}\")\n",
        "print(f\"ISR: ${isr:.2f}  ({tramo})\")\n",
        "print(f\"Total Deducciones: ${total:.2f}\")\n",
        "print(f\"Sueldo Neto: ${neto:.2f}\")\n"
      ],
      "metadata": {
        "id": "RW7uG1FZ7BN7",
        "outputId": "621a4401-07ff-4ac6-f05e-429877303040",
        "colab": {
          "base_uri": "https://localhost:8080/"
        }
      },
      "execution_count": 25,
      "outputs": [
        {
          "output_type": "stream",
          "name": "stdout",
          "text": [
            "Ingrese el sueldo: 620\n",
            "Deducciones por ley:\n",
            "ISSS: $18.60\n",
            "AFP: $38.75\n",
            "Base ISR: $562.65\n",
            "ISR: $56.27  (10% aplicado a toda la base)\n",
            "Total Deducciones: $113.61\n",
            "Sueldo Neto: $506.38\n"
          ]
        }
      ]
    },
    {
      "cell_type": "markdown",
      "source": [
        "2- Calcular el valor a pagar según el número de metros consumidos de agua potable"
      ],
      "metadata": {
        "id": "P7Hsraqs-OEp"
      }
    },
    {
      "cell_type": "code",
      "source": [
        "def calcular_tarifa_agua(metros_consumidos):\n",
        "    if metros_consumidos <= 0:\n",
        "        return \"No se puede calcular con un valor negativo o cero.\"\n",
        "    elif metros_consumidos <= 18:\n",
        "        return 6.00\n",
        "    elif 19 <= metros_consumidos <= 28:\n",
        "        return 6.00 + (metros_consumidos - 18) * 0.45\n",
        "    else:\n",
        "        return 6.00 + (28 - 18) * 0.45 + (metros_consumidos - 28) * 0.65\n",
        "\n",
        "# Solicitar al usuario el número de metros consumidos\n",
        "try:\n",
        "    metros_consumidos = float(input(\"Ingresa el número de metros de agua consumidos: \"))\n",
        "    tarifa = calcular_tarifa_agua(metros_consumidos)\n",
        "\n",
        "    if isinstance(tarifa, str):\n",
        "        print(tarifa)\n",
        "    else:\n",
        "        print(f\"El total del valor a pagar es: ${tarifa:.2f}\")\n",
        "\n",
        "except ValueError:\n",
        "    print(\"Por favor, ingresa un número válido.\")"
      ],
      "metadata": {
        "id": "JAv8dTis-ClD",
        "outputId": "a7ba14a3-27fe-4553-f839-1dde31900ce0",
        "colab": {
          "base_uri": "https://localhost:8080/"
        }
      },
      "execution_count": 28,
      "outputs": [
        {
          "output_type": "stream",
          "name": "stdout",
          "text": [
            "Ingresa el número de metros de agua consumidos: 19\n",
            "El total del valor a pagar es: $6.45\n"
          ]
        }
      ]
    },
    {
      "cell_type": "markdown",
      "source": [
        "3- Desarrolle la tabla de meses acumulados a n meses. Si puede encontrar la fórmula matemática para evitar ciclos."
      ],
      "metadata": {
        "id": "iZ-KB-hqAP5j"
      }
    },
    {
      "cell_type": "code",
      "source": [
        "#meses acumulados con ciclo\n",
        "def meses_acumulados(n):\n",
        "    return [(i * (i + 1)) // 2 for i in range(1, n + 1)]\n",
        "\n",
        "while True:\n",
        "    try:\n",
        "        n = int(input(\"Ingresa el número de meses para calcular la tabla acumulada: \"))\n",
        "        if n > 0:\n",
        "            break\n",
        "        else:\n",
        "            print(\"Por favor, ingresa un número positivo.\")\n",
        "    except ValueError:\n",
        "        print(\"Por favor, ingresa un número entero válido.\")\n",
        "\n",
        "tabla_acumulada = meses_acumulados(n)\n",
        "\n",
        "print(f\"\\nTabla de meses acumulados para {n} meses:\")\n",
        "for i, valor in enumerate(tabla_acumulada, start=1):\n",
        "    print(f\"Mes {i}: {valor}\")"
      ],
      "metadata": {
        "id": "lr-X3dWtAPcT",
        "outputId": "8793c365-7d5d-49c6-add2-346410b38ef4",
        "colab": {
          "base_uri": "https://localhost:8080/"
        }
      },
      "execution_count": 29,
      "outputs": [
        {
          "output_type": "stream",
          "name": "stdout",
          "text": [
            "Ingresa el número de meses para calcular la tabla acumulada: 10\n",
            "\n",
            "Tabla de meses acumulados para 10 meses:\n",
            "Mes 1: 1\n",
            "Mes 2: 3\n",
            "Mes 3: 6\n",
            "Mes 4: 10\n",
            "Mes 5: 15\n",
            "Mes 6: 21\n",
            "Mes 7: 28\n",
            "Mes 8: 36\n",
            "Mes 9: 45\n",
            "Mes 10: 55\n"
          ]
        }
      ]
    },
    {
      "cell_type": "code",
      "source": [
        "#Meses acumulados sin ciclos\n",
        "def calcular_valor_acumulado(n):\n",
        "    return (n * (n + 1)) // 2\n",
        "\n",
        "def imprimir_tabla(n):\n",
        "    # Usamos la fórmula para calcular y mostrar cada valor sin usar ciclos\n",
        "    def imprimir_mes(i):\n",
        "        if i > n:\n",
        "            return\n",
        "        valor = calcular_valor_acumulado(i)\n",
        "        print(f\"Mes {i}: {valor}\")\n",
        "        imprimir_mes(i + 1)\n",
        "\n",
        "    imprimir_mes(1)\n",
        "\n",
        "def pedir_numero():\n",
        "    try:\n",
        "        n = int(input(\"Ingresa el número de meses para calcular la tabla acumulada: \"))\n",
        "        if n > 0:\n",
        "            return n\n",
        "        else:\n",
        "            print(\"Por favor, ingresa un número positivo.\")\n",
        "            return pedir_numero()\n",
        "    except ValueError:\n",
        "        print(\"Por favor, ingresa un número entero válido.\")\n",
        "        return pedir_numero()\n",
        "\n",
        "# Obtener el número de meses válido\n",
        "n = pedir_numero()\n",
        "\n",
        "# Imprimir la tabla acumulada\n",
        "print(f\"\\nTabla de meses acumulados para {n} meses:\")\n",
        "imprimir_tabla(n)"
      ],
      "metadata": {
        "id": "1tCNs4hjAV3U",
        "outputId": "9a04e33f-679a-4201-a47b-4cee58cb1e48",
        "colab": {
          "base_uri": "https://localhost:8080/"
        }
      },
      "execution_count": 30,
      "outputs": [
        {
          "output_type": "stream",
          "name": "stdout",
          "text": [
            "Ingresa el número de meses para calcular la tabla acumulada: 10\n",
            "\n",
            "Tabla de meses acumulados para 10 meses:\n",
            "Mes 1: 1\n",
            "Mes 2: 3\n",
            "Mes 3: 6\n",
            "Mes 4: 10\n",
            "Mes 5: 15\n",
            "Mes 6: 21\n",
            "Mes 7: 28\n",
            "Mes 8: 36\n",
            "Mes 9: 45\n",
            "Mes 10: 55\n"
          ]
        }
      ]
    },
    {
      "cell_type": "markdown",
      "source": [
        "4- Conversores: (40%) (10 ítems como mínimo por cada uno) • Monedas (Resuelto en clases) • Longitud • Masa • Almacenamiento • Tiempo • Volumen • Área"
      ],
      "metadata": {
        "id": "1XAUEyADn3YK"
      }
    },
    {
      "cell_type": "markdown",
      "source": [
        "**MONEDA**"
      ],
      "metadata": {
        "id": "67ValCZKoIvA"
      }
    },
    {
      "cell_type": "code",
      "source": [
        "#MONEDAS\n",
        "import re\n",
        "\n",
        "def convertir_moneda(valor, moneda_origen, moneda_destino):\n",
        "    tasas_de_cambio = {\n",
        "        'dolar': 1,\n",
        "        'euro': 0.92,\n",
        "        'quetzal': 7.86,\n",
        "        'lempira': 24.62,\n",
        "        'cordoba': 36.56,\n",
        "        'colonsv': 8.75,\n",
        "        'coloncr': 535.14,\n",
        "        'yenes': 145.52,\n",
        "        'rupias indias': 83.32,\n",
        "        'libras esterlinas': 0.79,\n",
        "    }\n",
        "\n",
        "    try:\n",
        "        tasa_origen = tasas_de_cambio[moneda_origen]\n",
        "        tasa_destino = tasas_de_cambio[moneda_destino]\n",
        "        return valor * (tasa_origen / tasa_destino)\n",
        "    except KeyError:\n",
        "        raise ValueError(\"Moneda de origen o destino no reconocida.\")\n",
        "\n",
        "def es_flotante(valor):\n",
        "    try:\n",
        "        float(valor)\n",
        "        return True\n",
        "    except ValueError:\n",
        "        return False\n",
        "\n",
        "def es_alfabetico(texto):\n",
        "    return bool(re.match(\"^[a-zA-Z\\s]+$\", texto))\n",
        "\n",
        "try:\n",
        "    # Validación del valor como número flotante\n",
        "    valor_input = input(\"Ingrese el valor a convertir: \")\n",
        "    if not es_flotante(valor_input):\n",
        "        raise ValueError(\"Debe ingresar un número válido.\")\n",
        "    valor = float(valor_input)\n",
        "\n",
        "    # Validación de las monedas como texto sin números\n",
        "    moneda_origen = input(\"Ingrese la moneda de origen: \").strip().lower()\n",
        "    if not es_alfabetico(moneda_origen):\n",
        "        raise ValueError(\"La moneda de origen debe contener solo letras y espacios.\")\n",
        "\n",
        "    moneda_destino = input(\"Ingrese la moneda de destino: \").strip().lower()\n",
        "    if not es_alfabetico(moneda_destino):\n",
        "        raise ValueError(\"La moneda de destino debe contener solo letras y espacios.\")\n",
        "\n",
        "    resultado = convertir_moneda(valor, moneda_origen, moneda_destino)\n",
        "    print(f\"{valor} {moneda_destino} son {resultado:.2f} {moneda_origen}\")\n",
        "\n",
        "except ValueError as e:\n",
        "    print(f\"Error: {e}\")"
      ],
      "metadata": {
        "id": "2bzPVCgCA7uG"
      },
      "execution_count": null,
      "outputs": []
    },
    {
      "cell_type": "markdown",
      "source": [
        "**LONGITUD**"
      ],
      "metadata": {
        "id": "Y_trYIcooWFH"
      }
    },
    {
      "cell_type": "code",
      "source": [
        "#Longitud\n",
        "def convertir_longitud(valor, unidad_origen, unidad_destino):\n",
        "    unidades = {\n",
        "        'metros': 1.0,\n",
        "        'kilometros': 1000.0,\n",
        "        'centimetros': 0.01,\n",
        "        'milimetros': 0.001,\n",
        "        'micrometros': 1e-6,\n",
        "        'nanometros': 1e-9,\n",
        "        'millas': 1609.34,\n",
        "        'yardas': 0.9144,\n",
        "        'pies': 0.3048,\n",
        "        'pulgadas': 0.0254,\n",
        "    }\n",
        "\n",
        "    try:\n",
        "        factor_origen = unidades[unidad_origen]\n",
        "        factor_destino = unidades[unidad_destino]\n",
        "        return valor * factor_origen / factor_destino\n",
        "    except KeyError:\n",
        "        raise ValueError(\"Unidad de origen o destino no reconocida.\")\n",
        "\n",
        "def es_flotante(valor):\n",
        "    try:\n",
        "        float(valor)\n",
        "        return True\n",
        "    except ValueError:\n",
        "        return False\n",
        "\n",
        "def es_alfabetico(texto):\n",
        "    return bool(re.match(\"^[a-zA-Z]+$\", texto))\n",
        "\n",
        "try:\n",
        "    # Validación solo numeros\n",
        "    valor_input = input(\"Ingrese el valor a convertir: \")\n",
        "    if not es_flotante(valor_input):\n",
        "        raise ValueError(\"Debe ingresar numeros válidos.\")\n",
        "    valor = float(valor_input)\n",
        "\n",
        "    # Validación escribir letras, no numeros\n",
        "    unidad_origen = input(\"Digite la unidad de origen: \").strip().lower()\n",
        "    if not es_alfabetico(unidad_origen):\n",
        "        raise ValueError(\"La unidad de origen debe contener solo letras.\")\n",
        "\n",
        "    unidad_destino = input(\"Digite la unidad de destino: \").strip().lower()\n",
        "    if not es_alfabetico(unidad_destino):\n",
        "        raise ValueError(\"La unidad de destino debe contener solo letras.\")\n",
        "\n",
        "    resultado = convertir_longitud(valor, unidad_origen, unidad_destino)\n",
        "    print(f\"{valor} {unidad_origen} son {resultado} {unidad_destino}\")\n",
        "\n",
        "except ValueError as e:\n",
        "    print(f\"Error: {e}\")"
      ],
      "metadata": {
        "id": "xYkPgMnDoc0z"
      },
      "execution_count": null,
      "outputs": []
    },
    {
      "cell_type": "markdown",
      "source": [
        "**MASA**"
      ],
      "metadata": {
        "id": "zO8T_hLJokHL"
      }
    },
    {
      "cell_type": "code",
      "source": [
        "#Masa\n",
        "#{1, 0.453592, 453.592, 0.000453592, 453592, 453600000, 0.000446429, 0.0005, 0.0714286, 16}, //Masa\n",
        "def convertir_masa(valor, unidad_origen, unidad_destino):\n",
        "    unidades_de_masa = {\n",
        "        'libra': 1,\n",
        "        'kilogramo': 0.453592,\n",
        "        'gramo': 453.592,\n",
        "        'tonelada': 0.000453592,\n",
        "        'miligramo': 453592,\n",
        "        'microgramo': 453600000,\n",
        "        'tonelada larga': 0.000446429,\n",
        "        'tonelada corta': 0.0005,\n",
        "        'stone': 0.0714286,\n",
        "        'onza': 16\n",
        "    }\n",
        "\n",
        "    try:\n",
        "        tasa_origen_a_destino = unidades_de_masa[unidad_destino] / unidades_de_masa[unidad_origen]\n",
        "        resultado = valor * tasa_origen_a_destino\n",
        "        return round(resultado, 2)\n",
        "    except KeyError:\n",
        "        raise ValueError(\"Unidad de origen o destino no reconocida.\")\n",
        "\n",
        "def es_flotante(valor):\n",
        "    try:\n",
        "        float(valor)\n",
        "        return True\n",
        "    except ValueError:\n",
        "        return False\n",
        "\n",
        "def es_alfabetico(texto):\n",
        "    return bool(re.match(\"^[a-zA-Z\\s]+$\", texto))\n",
        "\n",
        "try:\n",
        "    # Validación del valor como número flotante\n",
        "    valor_input = input(\"Ingrese el valor a convertir: \")\n",
        "    if not es_flotante(valor_input):\n",
        "        raise ValueError(\"Debe ingresar un número válido.\")\n",
        "    valor = float(valor_input)\n",
        "\n",
        "    # Validación de las unidades como texto sin números\n",
        "    unidad_origen = input(\"Ingrese la unidad de origen: \").strip().lower()\n",
        "    if not es_alfabetico(unidad_origen):\n",
        "        raise ValueError(\"La unidad de origen debe contener solo letras.\")\n",
        "\n",
        "    unidad_destino = input(\"Ingrese la unidad de destino: \").strip().lower()\n",
        "    if not es_alfabetico(unidad_destino):\n",
        "        raise ValueError(\"La unidad de destino debe contener solo letras.\")\n",
        "\n",
        "    resultado = convertir_masa(valor, unidad_origen, unidad_destino)\n",
        "    print(f\"{valor} {unidad_origen} son {resultado} {unidad_destino}\")\n",
        "\n",
        "except ValueError as e:\n",
        "    print(f\"Error: {e}\")"
      ],
      "metadata": {
        "id": "3AU4hTTpoxwm"
      },
      "execution_count": null,
      "outputs": []
    },
    {
      "cell_type": "markdown",
      "source": [
        "**ALMACENAMIENTO**"
      ],
      "metadata": {
        "id": "La6J1Shoo6Ch"
      }
    },
    {
      "cell_type": "code",
      "source": [
        "#almacenamiento\n",
        "def convertir_almacenamiento(valor, unidad_origen, unidad_destino):\n",
        "    unidades = {\n",
        "        'byte': 1,\n",
        "        'kilobyte': 0.001,\n",
        "        'megabyte': 0.000001,\n",
        "        'gigabyte': 0.000000001,\n",
        "        'terabyte': 0.000000000001,\n",
        "        'petabyte': 0.000000000000001,\n",
        "        'exabyte': 0.000000000000000001,\n",
        "        'zettabyte': 0.000000000000000000001,\n",
        "        'yottabyte': 0.000000000000000000000001,\n",
        "        'bit': 0.125\n",
        "    }\n",
        "\n",
        "    try:\n",
        "        factor_origen = unidades[unidad_origen]\n",
        "        factor_destino = unidades[unidad_destino]\n",
        "        return valor * factor_origen / factor_destino\n",
        "    except KeyError:\n",
        "        raise ValueError(\"Unidad de origen o destino no reconocida.\")\n",
        "\n",
        "def es_flotante(valor):\n",
        "    try:\n",
        "        float(valor)\n",
        "        return True\n",
        "    except ValueError:\n",
        "        return False\n",
        "\n",
        "def es_alfabetico(texto):\n",
        "    return bool(re.match(\"^[a-zA-Z]+$\", texto))\n",
        "\n",
        "try:\n",
        "    # Validación del valor como número flotante\n",
        "    valor_input = input(\"Ingrese el valor a convertir: \")\n",
        "    if not es_flotante(valor_input):\n",
        "        raise ValueError(\"Debe ingresar un número válido.\")\n",
        "    valor = float(valor_input)\n",
        "\n",
        "    # Validación de las unidades como texto sin números\n",
        "    unidad_origen = input(\"Digite la unidad de origen: \").strip().lower()\n",
        "    if not es_alfabetico(unidad_origen):\n",
        "        raise ValueError(\"La unidad de origen debe contener solo letras.\")\n",
        "\n",
        "    unidad_destino = input(\"Digite la unidad de destino: \").strip().lower()\n",
        "    if not es_alfabetico(unidad_destino):\n",
        "        raise ValueError(\"La unidad de destino debe contener solo letras.\")\n",
        "\n",
        "    resultado = convertir_almacenamiento(valor, unidad_origen, unidad_destino)\n",
        "    print(f\"{valor} {unidad_origen} son {resultado} {unidad_destino}\")\n",
        "\n",
        "except ValueError as e:\n",
        "    print(f\"Error: {e}\")"
      ],
      "metadata": {
        "id": "8xN3MX9DpBgi"
      },
      "execution_count": null,
      "outputs": []
    },
    {
      "cell_type": "markdown",
      "source": [
        "**TIEMPO**"
      ],
      "metadata": {
        "id": "mfQ_vjl1pHR5"
      }
    },
    {
      "cell_type": "code",
      "source": [
        "#tiempo\n",
        "# {1, 60, 0.0166667, 0.000694444, 0.000099206, 0.000022831, 0.0000019026, 0.00000019026, 0.00000001903, 60000}, //Tiempo,\n",
        "def convertir_tiempo(valor, unidad_origen, unidad_destino):\n",
        "    unidades_de_tiempo = {\n",
        "        'minuto': 1,\n",
        "        'segundo': 60,\n",
        "        'hora': 0.0166667,\n",
        "        'dia': 0.000694444,\n",
        "        'semana': 0.000099206,\n",
        "        'mes': 0.000022831,\n",
        "        'año':0.0000019026 ,\n",
        "        'decada': 0.00000001903,\n",
        "        'siglo': 0.00000001903,\n",
        "        'milisegundo': 60000\n",
        "    }\n",
        "\n",
        "    try:\n",
        "        tasa_origen_a_destino = unidades_de_tiempo[unidad_destino] / unidades_de_tiempo[unidad_origen]\n",
        "        resultado = valor * tasa_origen_a_destino\n",
        "        return round(resultado, 2)\n",
        "    except KeyError:\n",
        "        raise ValueError(\"Unidad de origen o destino no reconocida.\")\n",
        "\n",
        "def es_flotante(valor):\n",
        "    try:\n",
        "        float(valor)\n",
        "        return True\n",
        "    except ValueError:\n",
        "        return False\n",
        "\n",
        "def es_alfabetico(texto):\n",
        "    return bool(re.match(\"^[a-zA-Z\\s]+$\", texto))\n",
        "\n",
        "try:\n",
        "    # Validación del valor como número flotante\n",
        "    valor_input = input(\"Ingrese el valor a convertir: \")\n",
        "    if not es_flotante(valor_input):\n",
        "        raise ValueError(\"Debe ingresar un número válido.\")\n",
        "    valor = float(valor_input)\n",
        "\n",
        "    # Validación de las unidades como texto sin números\n",
        "    unidad_origen = input(\"Ingrese la unidad de origen: \").strip().lower()\n",
        "    if not es_alfabetico(unidad_origen):\n",
        "        raise ValueError(\"La unidad de origen debe contener solo letras.\")\n",
        "\n",
        "    unidad_destino = input(\"Ingrese la unidad de destino: \").strip().lower()\n",
        "    if not es_alfabetico(unidad_destino):\n",
        "        raise ValueError(\"La unidad de destino debe contener solo letras.\")\n",
        "\n",
        "    resultado = convertir_tiempo(valor, unidad_origen, unidad_destino)\n",
        "    print(f\"{valor} {unidad_origen} son {resultado} {unidad_destino}\")\n",
        "\n",
        "except ValueError as e:\n",
        "    print(f\"Error: {e}\")"
      ],
      "metadata": {
        "id": "Whf_Wsl3pPXL"
      },
      "execution_count": null,
      "outputs": []
    },
    {
      "cell_type": "markdown",
      "source": [
        "**VOLUMEN**"
      ],
      "metadata": {
        "id": "dR9dgtqzpliI"
      }
    },
    {
      "cell_type": "code",
      "source": [
        "#Volumen\n",
        "#{1, 0.264172, 1.05669, 2.11338, 4.16667, 33.814, 67.628, 202.884, 0.001, 1000},\n",
        "def convertir_volumen(valor, unidad_origen, unidad_destino):\n",
        "    unidades_de_volumen = {\n",
        "        'litro': 1,\n",
        "        'galon usa': 0.264172,\n",
        "        'cuarto usa': 1.05669,\n",
        "        'pinta usa': 2.11338,\n",
        "        'taza usa': 4.16667,\n",
        "        'onza liquida': 33.814,\n",
        "        'cuchara usa':67.628 ,\n",
        "        'cucharadita usa': 202.884,\n",
        "        'metro cubico': 0.001,\n",
        "        'milimetro': 1000\n",
        "    }\n",
        "\n",
        "    try:\n",
        "        tasa_origen_a_destino = unidades_de_volumen[unidad_destino] / unidades_de_volumen[unidad_origen]\n",
        "        resultado = valor * tasa_origen_a_destino\n",
        "        return round(resultado, 2)\n",
        "    except KeyError:\n",
        "        raise ValueError(\"Unidad de origen o destino no reconocida.\")\n",
        "\n",
        "def es_flotante(valor):\n",
        "    try:\n",
        "        float(valor)\n",
        "        return True\n",
        "    except ValueError:\n",
        "        return False\n",
        "\n",
        "def es_alfabetico(texto):\n",
        "    return bool(re.match(\"^[a-zA-Z\\s]+$\", texto))\n",
        "\n",
        "try:\n",
        "    # Validación del valor como número flotante\n",
        "    valor_input = input(\"Ingrese el valor a convertir: \")\n",
        "    if not es_flotante(valor_input):\n",
        "        raise ValueError(\"Debe ingresar un número válido.\")\n",
        "    valor = float(valor_input)\n",
        "\n",
        "    # Validación de las unidades como texto sin números\n",
        "    unidad_origen = input(\"Ingrese la unidad de origen: \").strip().lower()\n",
        "    if not es_alfabetico(unidad_origen):\n",
        "        raise ValueError(\"La unidad de origen debe contener solo letras.\")\n",
        "\n",
        "    unidad_destino = input(\"Ingrese la unidad de destino: \").strip().lower()\n",
        "    if not es_alfabetico(unidad_destino):\n",
        "        raise ValueError(\"La unidad de destino debe contener solo letras.\")\n",
        "\n",
        "    resultado = convertir_volumen(valor, unidad_origen, unidad_destino)\n",
        "    print(f\"{valor} {unidad_origen} son {resultado} {unidad_destino}\")\n",
        "\n",
        "except ValueError as e:\n",
        "    print(f\"Error: {e}\")"
      ],
      "metadata": {
        "id": "fNcqlYDdpoje"
      },
      "execution_count": null,
      "outputs": []
    },
    {
      "cell_type": "markdown",
      "source": [
        "**AREA**"
      ],
      "metadata": {
        "id": "AgaMe31XpwIO"
      }
    },
    {
      "cell_type": "code",
      "source": [
        "#Area\n",
        "import re\n",
        "def convertir_area(valor, unidad_origen, unidad_destino):\n",
        "    unidades_de_area = {\n",
        "        'manzanas': 1,\n",
        "        'tareas': 16,\n",
        "        'metro cuadrado': 7000,\n",
        "        'vara cuadrada': 10000,\n",
        "        'yarda cuadrada':  8371.93,\n",
        "        'pie cuadrado': 75.207,\n",
        "        'hectareas': 0.70,\n",
        "        'acre':1.729738,\n",
        "        'milla cuadrada': 0.002702715,\n",
        "        'pie cuadrado': 75347.37\n",
        "    }\n",
        "\n",
        "    try:\n",
        "        tasa_origen_a_destino = unidades_de_area[unidad_destino] / unidades_de_area[unidad_origen]\n",
        "        resultado = valor * tasa_origen_a_destino\n",
        "        return round(resultado, 2)\n",
        "    except KeyError:\n",
        "        raise ValueError(\"Unidad de origen o destino no reconocida.\")\n",
        "\n",
        "def es_flotante(valor):\n",
        "    try:\n",
        "        float(valor)\n",
        "        return True\n",
        "    except ValueError:\n",
        "        return False\n",
        "\n",
        "def es_alfabetico(texto):\n",
        "    return bool(re.match(\"^[a-zA-Z\\s]+$\", texto))\n",
        "\n",
        "try:\n",
        "    # Validación del valor como número flotante\n",
        "    valor_input = input(\"Ingrese el valor a convertir: \")\n",
        "    if not es_flotante(valor_input):\n",
        "        raise ValueError(\"Debe ingresar un número válido.\")\n",
        "    valor = float(valor_input)\n",
        "\n",
        "    # Validación de las unidades como texto sin números\n",
        "    unidad_origen = input(\"Ingrese la unidad de origen: \").strip().lower()\n",
        "    if not es_alfabetico(unidad_origen):\n",
        "        raise ValueError(\"La unidad de origen debe contener solo letras.\")\n",
        "\n",
        "    unidad_destino = input(\"Ingrese la unidad de destino: \").strip().lower()\n",
        "    if not es_alfabetico(unidad_destino):\n",
        "        raise ValueError(\"La unidad de destino debe contener solo letras.\")\n",
        "\n",
        "    resultado = convertir_area(valor, unidad_origen, unidad_destino)\n",
        "    print(f\"{valor} {unidad_origen} son {resultado} {unidad_destino}\")\n",
        "\n",
        "except ValueError as e:\n",
        "    print(f\"Error: {e}\")"
      ],
      "metadata": {
        "id": "dxlV0wW2p0aR"
      },
      "execution_count": null,
      "outputs": []
    },
    {
      "cell_type": "markdown",
      "source": [
        "5-Realizar un conversor propio, donde especifiqué el valor de conversión:"
      ],
      "metadata": {
        "id": "vzN7iR3yqgmH"
      }
    },
    {
      "cell_type": "code",
      "source": [
        "#Conversor propio de galletas Chips ahoy\n",
        "\n",
        "def convertir_unidades_a_paquetes(unidades):\n",
        "    # Convierte unidades a paquetes de galletas Chips Ahoy\n",
        "    paquetes = unidades / 12\n",
        "    return paquetes\n",
        "\n",
        "def convertir_paquetes_a_unidades(paquetes):\n",
        "    # Convierte paquetes de galletas Chips Ahoy a unidades\n",
        "    unidades = paquetes * 12\n",
        "    return unidades\n",
        "\n",
        "def main():\n",
        "    print(\"Conversor de unidades a cajas y paquetes de galletas Chips Ahoy\")\n",
        "    while True:\n",
        "        print(\"\\nOpciones:\")\n",
        "        print(\"1. Convertir unidades a paquetes de galletas Chips Ahoy\")\n",
        "        print(\"2. Convertir paquetes de galletas Chips Ahoy a unidades\")\n",
        "        print(\"3. Salir\")\n",
        "\n",
        "        opcion = input(\"Elige una opción (1-3): \")\n",
        "\n",
        "        if opcion == \"1\":\n",
        "            unidades = float(input(\"Ingresa la cantidad de unidades: \"))\n",
        "            print(f\"{unidades} unidades son equivalentes a {convertir_unidades_a_paquetes(unidades)} paquetes de galletas Chips Ahoy.\")\n",
        "\n",
        "        elif opcion == \"2\":\n",
        "            paquetes = float(input(\"Ingresa la cantidad de paquetes de galletas Chips Ahoy: \"))\n",
        "            print(f\"{paquetes} paquetes de galletas Chips Ahoy son equivalentes a {convertir_paquetes_a_unidades(paquetes)} unidades.\")\n",
        "\n",
        "        elif opcion == \"3\":\n",
        "            print(\"¡Hasta luego!\")\n",
        "            break\n",
        "\n",
        "        else:\n",
        "            print(\"Opción no válida. Inténtalo de nuevo.\")\n",
        "\n",
        "if __name__ == \"__main__\":\n",
        "    main()"
      ],
      "metadata": {
        "id": "XFxl9XL1qnAj",
        "outputId": "02317000-1884-4d34-a473-4a039de87379",
        "colab": {
          "base_uri": "https://localhost:8080/"
        }
      },
      "execution_count": 3,
      "outputs": [
        {
          "output_type": "stream",
          "name": "stdout",
          "text": [
            "Conversor de unidades a cajas y paquetes de galletas Chips Ahoy\n",
            "\n",
            "Opciones:\n",
            "1. Convertir unidades a paquetes de galletas Chips Ahoy\n",
            "2. Convertir paquetes de galletas Chips Ahoy a unidades\n",
            "3. Salir\n",
            "Elige una opción (1-3): 4\n",
            "Opción no válida. Inténtalo de nuevo.\n",
            "\n",
            "Opciones:\n",
            "1. Convertir unidades a paquetes de galletas Chips Ahoy\n",
            "2. Convertir paquetes de galletas Chips Ahoy a unidades\n",
            "3. Salir\n",
            "Elige una opción (1-3): 3\n",
            "¡Hasta luego!\n"
          ]
        }
      ]
    }
  ]
}